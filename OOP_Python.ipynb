{
 "cells": [
  {
   "cell_type": "code",
   "execution_count": 8,
   "metadata": {},
   "outputs": [
    {
     "name": "stdout",
     "output_type": "stream",
     "text": [
      "function1 is working\n",
      "function2 is working\n"
     ]
    }
   ],
   "source": [
    "# Class and objects\n",
    "class A:\n",
    "    def function1():\n",
    "        print(\"function1 is working\")\n",
    "    def function2():\n",
    "        print(\"function2 is working\")\n",
    "        \n",
    "A.function1()       \n",
    "A.function2()"
   ]
  },
  {
   "cell_type": "code",
   "execution_count": 27,
   "metadata": {},
   "outputs": [
    {
     "name": "stdout",
     "output_type": "stream",
     "text": [
      "name of the employee is ram\n",
      "Name :  ajay , Age:  24 , Salary:  45040\n"
     ]
    }
   ],
   "source": [
    "# Example for class and objects\n",
    "class employee:\n",
    "    def __init__(self, name, age, salary ):\n",
    "        self.name = name\n",
    "        self.age = age\n",
    "        self.salary = salary\n",
    "        \n",
    "    def introduce_self(self):\n",
    "        print(\"name of the employee is \" + self.name)\n",
    "\n",
    "    def Employee_data(self):\n",
    "        print(\"Name : \",self.name, \", Age: \",self.age, \", Salary: \",self.salary)\n",
    "        \n",
    "e1 = employee(\"ajay\", 24, 45040)\n",
    "e2 = employee(\"ram\", 26, 54989)\n",
    "\n",
    "e2.introduce_self()\n",
    "e1.Employee_data()"
   ]
  },
  {
   "cell_type": "code",
   "execution_count": 10,
   "metadata": {},
   "outputs": [
    {
     "name": "stdout",
     "output_type": "stream",
     "text": [
      "function1 is working\n",
      "function2 is working\n"
     ]
    }
   ],
   "source": [
    "#-----Single level Inheritance-----#\n",
    "# Parent class\n",
    "class A:\n",
    "    def function1():\n",
    "        print(\"function1 is working\")\n",
    "    def function2():\n",
    "        print(\"function2 is working\")\n",
    "\n",
    "# Child class\n",
    "class B(A):\n",
    "    def function3():\n",
    "        print(\"function3 is working\")\n",
    "    def function4():\n",
    "        print(\"function4 is working\")\n",
    "        \n",
    "B.function1()       \n",
    "B.function2()"
   ]
  },
  {
   "cell_type": "code",
   "execution_count": 11,
   "metadata": {},
   "outputs": [
    {
     "name": "stdout",
     "output_type": "stream",
     "text": [
      "function1 is working\n",
      "function4 is working\n",
      "function5 is working\n"
     ]
    }
   ],
   "source": [
    "# Multi-level Inheritance\n",
    "class A:\n",
    "    def function1():\n",
    "        print(\"function1 is working\")\n",
    "    def function2():\n",
    "        print(\"function2 is working\")\n",
    "\n",
    "class B(A):\n",
    "    def function3():\n",
    "        print(\"function3 is working\")\n",
    "    def function4():\n",
    "        print(\"function4 is working\")\n",
    "        \n",
    "class C(B):\n",
    "    def function5():\n",
    "        print(\"function5 is working\")\n",
    "\n",
    "C.function1()       \n",
    "C.function4()\n",
    "C.function5()"
   ]
  },
  {
   "cell_type": "code",
   "execution_count": 21,
   "metadata": {},
   "outputs": [
    {
     "name": "stdout",
     "output_type": "stream",
     "text": [
      "Name: John\n",
      "Age: 33\n",
      "Gender: Male\n",
      "Basic Pay: 80000\n",
      "\n",
      "Name:  John\n",
      "Age:  33\n",
      "Gender:  Male\n",
      "salary:  123200.0\n"
     ]
    }
   ],
   "source": [
    "# Example for Multi-level inheritance\n",
    "class employee:\n",
    "    def emp(self):\n",
    "        self.name = input('Name: ')\n",
    "        self.age = input('Age: ')\n",
    "        self.gender = input('Gender: ')\n",
    "        \n",
    "class paying(employee):\n",
    "    def pay(self):\n",
    "        self.basic = int(input('Basic Pay: '))\n",
    "        self.hra = self.basic*0.40\n",
    "        self.da = self.basic*0.14\n",
    "\n",
    "class salary(paying):\n",
    "    def display(self):\n",
    "        print('\\nName: ',self.name)\n",
    "        print('Age: ',self.age)\n",
    "        print('Gender: ',self.gender)\n",
    "        print('salary: ',self.basic+self.hra+self.da)\n",
    "\n",
    "s = salary()\n",
    "s.emp()\n",
    "s.pay()\n",
    "\n",
    "s.display()"
   ]
  },
  {
   "cell_type": "code",
   "execution_count": null,
   "metadata": {},
   "outputs": [],
   "source": [
    "# Multiple Inheritance\n",
    "class A:\n",
    "    def function1():\n",
    "        print(\"function1 is working\")\n",
    "    def function2():\n",
    "        print(\"function2 is working\")\n",
    "\n",
    "class B:\n",
    "    def function3():\n",
    "        print(\"function3 is working\")\n",
    "    def function4():\n",
    "        print(\"function4 is working\")\n",
    "        \n",
    "class C(A,B):\n",
    "    def function5():\n",
    "        print(\"function5 is working\")\n",
    "        \n",
    "# Here, b is not inheriting the features from A. However, C is inheriting the features of A and B."
   ]
  },
  {
   "cell_type": "code",
   "execution_count": 35,
   "metadata": {},
   "outputs": [
    {
     "name": "stdout",
     "output_type": "stream",
     "text": [
      "The sum of a and b is 30\n",
      "The multiplication of a and b is 200\n",
      "The division of a and b is 0.5\n"
     ]
    }
   ],
   "source": [
    "# Example for multiple inheritance\n",
    "class Calculation1:  \n",
    "    def Summation(self,a,b):  \n",
    "        return a+b;\n",
    "    \n",
    "class Calculation2:  \n",
    "    def Multiplication(self,a,b):  \n",
    "        return a*b;\n",
    "    \n",
    "class Derived(Calculation1,Calculation2):  \n",
    "    def Divide(self,a,b):  \n",
    "        return a/b;\n",
    "    \n",
    "d = Derived()  \n",
    "print(\"The sum of a and b is\",d.Summation(10,20))\n",
    "print(\"The multiplication of a and b is\",d.Multiplication(10,20))  \n",
    "print(\"The division of a and b is\",d.Divide(10,20))"
   ]
  }
 ],
 "metadata": {
  "kernelspec": {
   "display_name": "Python 3",
   "language": "python",
   "name": "python3"
  },
  "language_info": {
   "codemirror_mode": {
    "name": "ipython",
    "version": 3
   },
   "file_extension": ".py",
   "mimetype": "text/x-python",
   "name": "python",
   "nbconvert_exporter": "python",
   "pygments_lexer": "ipython3",
   "version": "3.6.5"
  }
 },
 "nbformat": 4,
 "nbformat_minor": 2
}
